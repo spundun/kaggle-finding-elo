{
 "cells": [
  {
   "cell_type": "markdown",
   "metadata": {},
   "source": [
    "Predict a chess player's FIDE Elo rating from one game\n",
    "=============================\n",
    "This is my attempt at the Kaggle Competition [Finding Elo](http://www.kaggle.com/c/finding-elo). As the title suggests, we are given records of 50000 chess games. 25000 of those records have the FIDE Elo ratings of the two players each. And the other 25000 records are missing the Elo ratings of the players. Those Elo ratings are for us to predict based on the moves played (given in the game records) and the 25000 training records.\n",
    "\n",
    "For our convenience Kaggle also passed all the games through a very powerful chess engine(stockfish) which analyses the board after each move and measures the strength of the board (i.e. how much the board is in white's favor). We have that data available in a separate csv file.\n",
    "\n",
    "The Data\n",
    "-------\n",
    "This is what the game records look like. (File: `data.pgn`)\n",
    "\n",
    "```\n",
    "[Event \"1\"] <---------------------Event ids go from 1 to 50000\n",
    "[Site \"kaggle.com\"] <-------------Useless fields\n",
    "[Date \"??\"]<--------------|\n",
    "[Round \"??\"]<-------------|\n",
    "[White \"??\"]<-------------|\n",
    "[Black \"??\"]<-------------|\n",
    "[Result \"1/2-1/2\"]<----------------Results can be 1-0 0-1 or 1/2-1/2(draw)\n",
    "[WhiteElo \"2354\"]<-----------------First 25000 games have Elo ratings of the players,\n",
    "[BlackElo \"2411\"]<-------------|       The other 25000 games are missing this data (\"??\")\n",
    "\n",
    "1. Nf3 Nf6 2. c4 c5 3. b3 g6 4. Bb2 Bg7 5. e3 O-O 6. Be2 b6 7. O-O Bb7 8.\n",
    "Nc3 Nc6 9. Qc2 Rc8 10. Rac1 d5 11. Nxd5 Nxd5 12. Bxg7 Nf4 13. exf4 Kxg7 14.\n",
    "Qc3+ Kg8 15. Rcd1 Qd6 16. d4 cxd4 17. Nxd4 Qxf4 18. Bf3 Qf6 19. Nb5 Qxc3\n",
    "1/2-1/2           ^^^^^^^^^^^^^^^^^^^^^^^^^^^^^^^^^^^^^^^^^^^^^^^^^^\n",
    "                  This is the series of moves ending with the result\n",
    "[Event \"2\"]\n",
    "[Site \"kaggle.com\"]\n",
    "...\n",
    "49999 more records follow\n",
    "```\n",
    "\n",
    "Auxilliary Data (very useful!)\n",
    "----------------------------\n",
    "The `stockfish.csv` file looks as follows.\n",
    "```\n",
    "1,18 17 12 8 -5 12 3 -2 22 21 20 13 8 21 11 3 -6 5 1 -10 -21 -1 -26 18 48 48 53 73 46 68 51 60 54 46 70 62 35 54\n",
    "2,26 44 26 18 14 34 36 31 37 35 42 52 55\n",
    "...\n",
    "50000 such lines... one per game\n",
    "```\n",
    "It's a two column csv where first column is the index of the game and the second is a space-seperated series of  numbers, the numbers denote the board strength after each move.\n",
    "\n",
    "### Disclaimers\n",
    "- This is my first Kaggle Competition\n",
    "- Most of this code was written after the competition ended\n",
    "- I didn't consult any of the published solutions to write this code(although consulted stackoverflow heavily for numpy recipes). I might study some of the solution and write a new solution and publish separately."
   ]
  },
  {
   "cell_type": "markdown",
   "metadata": {},
   "source": [
    "The Solution\n",
    "============"
   ]
  },
  {
   "cell_type": "markdown",
   "metadata": {},
   "source": [
    "Data extraction before Python\n",
    "---------------------------\n",
    "I used shell scripts to make two files `whiteelo.dat` and `blackelo.dat` which contained the ordered list of 25000 elo rankings each.\n",
    "```\n",
    "2354\n",
    "2523\n",
    "1915\n",
    "...\n",
    "25000 such lines\n",
    "```\n",
    "\n",
    "Similarly I generated a `results.dat` which contained the results of the 50000 games. `1` means White won, `0` means White lost, `1/2` means it was a draw.\n",
    "```\n",
    "1/2\n",
    "1/2\n",
    "1/2\n",
    "1/2\n",
    "0\n",
    "0\n",
    "1\n",
    "1\n",
    "1\n",
    "...\n",
    "50000 such lines\n",
    "```"
   ]
  },
  {
   "cell_type": "markdown",
   "metadata": {},
   "source": [
    "### Initialize Python"
   ]
  },
  {
   "cell_type": "code",
   "execution_count": 1,
   "metadata": {
    "collapsed": true
   },
   "outputs": [],
   "source": [
    "import csv\n",
    "import scipy\n",
    "from scipy import stats\n",
    "import warnings\n",
    "\n",
    "warnings.simplefilter(\"error\") #For better debugging and clean output, let any warning throw an exception"
   ]
  },
  {
   "cell_type": "markdown",
   "metadata": {},
   "source": [
    "Parsing Simple files\n",
    "-------------------\n",
    "The `whiteelo.dat` `blackelo.dat` and `result.dat` files that I generated earlier(using shell/perl commandline) are easy to load into python as arrays. So we start with that.\n",
    "\n",
    "`whiteelo.dat` and `blackelo.dat` have the list of known Elo rankings and `result.dat` have results of all the 50000 games."
   ]
  },
  {
   "cell_type": "code",
   "execution_count": 2,
   "metadata": {
    "collapsed": false
   },
   "outputs": [],
   "source": [
    "whiteEloFile = csv.reader(open('data/whiteelo.dat', 'r'))\n",
    "blackEloFile = csv.reader(open('data/blackelo.dat', 'r'))\n",
    "\n",
    "whiteElo=[int(x[0]) for x in whiteEloFile]\n",
    "blackElo=[int(x[0]) for x in blackEloFile]\n",
    "\n",
    "\n",
    "def parseResult(res):\n",
    "    if(res==\"1/2\"):\n",
    "        return 0.5\n",
    "    else:\n",
    "        return int(res)\n",
    "\n",
    "matchResultsFile = csv.reader(open('data/results.dat', 'r'))\n",
    "matchResults = [parseResult(x[0]) for x in matchResultsFile]"
   ]
  },
  {
   "cell_type": "markdown",
   "metadata": {},
   "source": [
    "Feature Extraction\n",
    "-----------------\n",
    "This is the meat of the code. All we have is a series of move from the original data(`data.pgn`) and the stockfish chess engine board analysis after each move in each game.\n",
    "\n",
    "For now we will ignore the series of moves and focus on `stockfish.csv` since Kaggle already provided the quality of each move through the stockfish analysis.\n",
    "\n",
    "### Converting Board Scores to Features\n",
    "Points to note with board scores are...\n",
    "- We are trying to predict two Elo scores, white player's and black player's. But we have one series of board strengths. For each move by a white player(or black player), the quality of that move is signified by how much that score improves the board score. One way to compute that is the difference between the score before that particular move and after. So we should convert the score series into a series of differences between consecutive scores.\n",
    "- The two consecutive numbers in this new series of score differences, two consecutive numbers will denote performance of opposite players, thus the move quality of a white player's moves and black players moves are interleaved and should be separated.\n",
    "- The length of move series could be indefinitely long or extremely short (even zero moves in case of forfeiture)\n",
    "- Because the length of the series is variable(and for other intuitive reasons) making each move's score a separate feature won't work. What we need to do is figure out the overall performance of a player based on the performance of all his moves(we can also use the performance of the opposite player as a hint to what he was up against)\n",
    "- One way to transform the series of move performances into overall performance is to do statistical analysis on the series. `scipy.stats.describe` provides a convenient way to transform the series into a set of features which all give useful info about the player's performance. The values returned are number-of-moves, min, max, mean, variance, skewness and kurtosis. Now we have a fixed number of features for all the games. Some of these features are obviously interesting...\n",
    "  - mean: this will tell us the average performance of the player which obviously can tell us how well he can play.\n",
    "  - variance: this will point to the consistency of player. Is he all over the place or is consistently performing better\n",
    "  - skewness: this feature should tell us whether a few good moves by fluke are tipping the scale for any player.\n",
    "- In case of forfeiture, we really don't have any data to go by, and I think our best bet is to just predict the average score and hope for the best, further, the training data from forfeiture games could mess with prediction of other games, so we should take out those records from the training data and treat forfeitures completely separately.\n",
    "- In case of draws we can use the difference in number of moves between white player and black player(or total_moves%2) to decide who offered the draw, which could be significant.\n",
    "\n",
    "### Further Refinements to the Feature Matrix and the Model\n",
    "I've implemented the following refinements...\n",
    "- Added some 2nd degree features by multiplying the number of observation with the other features\n",
    "- Split the model into three outcome based datasets (white wins, black wins, draw)\n",
    "These two improvements(and a bug fix) combined gave a slight boost to the performance jump of around 22 percentile.\n",
    "\n",
    "### Notes on Parsing stockfish.csv series\n",
    "For the most part stockfish data is just a series of space separated integers, so very easy to parse. But we have to take care of a couple of edge cases.\n",
    "- In forfeiture games where only white player makes one move and the black player doesn't show up or when white player doesn't show up, we get an empty series, which needs to be explicitly converted to a series of just one move.\n",
    "- Another edge case is, when the game goes into check-mate or when there's only one legal move(a king trying to run and hide) the file has `NA` instead of an integer, in which case the previous board strength number is good enough(IMO)"
   ]
  },
  {
   "cell_type": "markdown",
   "metadata": {},
   "source": [
    "Here is a function to parse the stockfish scores, taking care of the edge cases."
   ]
  },
  {
   "cell_type": "code",
   "execution_count": 3,
   "metadata": {
    "collapsed": true
   },
   "outputs": [],
   "source": [
    "def chessScore(x):\n",
    "    if x == '':\n",
    "        return 0\n",
    "    if x != 'NA':\n",
    "        chessScore.previous = int(x)\n",
    "    return chessScore.previous"
   ]
  },
  {
   "cell_type": "markdown",
   "metadata": {},
   "source": [
    "And here is the code that will generate the feature matrix.\n",
    "\n",
    "First we make the matrix out of statistical features returned by `scipy.stats.describe` for both white player and black player separately, and difference in number of moves between the two players(which will be 0 or one)."
   ]
  },
  {
   "cell_type": "code",
   "execution_count": 4,
   "metadata": {
    "collapsed": false,
    "scrolled": false
   },
   "outputs": [],
   "source": [
    "moveStatsList=[]\n",
    "index = 0\n",
    "with open('data/stockfish.csv', 'r') as stockfishScoresFile:\n",
    "    stockfishScoreSheet = csv.reader(stockfishScoresFile)\n",
    "    \n",
    "    next(stockfishScoreSheet) #skip the header line\n",
    "    forfeitcount = 0\n",
    "    for x in stockfishScoreSheet:\n",
    "        boardScores = scipy.array([chessScore(x) for x in x[1].split(\" \")])\n",
    "        initScores = scipy.array([0]);\n",
    "        initScores = scipy.append(initScores, boardScores[:-1])\n",
    "        moveScores = boardScores - initScores\n",
    "        whiteScores = moveScores[::2]\n",
    "        blackScores = moveScores[1::2]\n",
    "        if(type(x) is not list):\n",
    "            print (\"x is not list: \", x)\n",
    "        index += 1\n",
    "        if(blackScores.size <= 1):\n",
    "            forfeitcount += 1\n",
    "            #Ignore forfeiture/extremely short game for training.\n",
    "            #print (\"In a forfeiture game :\", forfeitcount, \" :\", index)\n",
    "            (wnobs, (wmin, wmax), wmean, wvariance, wskewness, wkurtosis) \\\n",
    "                = (0,(0,0),0,0,0,0);\n",
    "            (bnobs, (bmin, bmax), bmean, bvariance, bskewness, bkurtosis) \\\n",
    "                = (0,(0,0),0,0,0,0);\n",
    "        else:\n",
    "            (wnobs, (wmin, wmax), wmean, wvariance, wskewness, wkurtosis) \\\n",
    "                = scipy.stats.describe(whiteScores)\n",
    "            (bnobs, (bmin, bmax), bmean, bvariance, bskewness, bkurtosis) \\\n",
    "                = scipy.stats.describe(blackScores)\n",
    "        moveStatsList.append(scipy.array(\n",
    "                [wnobs, wmin, wmax, wmean, wvariance, wskewness, wkurtosis,\n",
    "                 wnobs*wmin, wnobs*wmax, wnobs*wmean, wnobs*wvariance, wnobs*wskewness, wnobs*wkurtosis,\n",
    "                 bnobs, bmin, bmax, bmean, bvariance, bskewness, bkurtosis,\n",
    "                 bnobs*bmin, bnobs*bmax, bnobs*bmean, bnobs*bvariance, bnobs*bskewness, bnobs*bkurtosis,\n",
    "                 bnobs - wnobs]))\n"
   ]
  },
  {
   "cell_type": "markdown",
   "metadata": {},
   "source": [
    "#### Add results to the feature matrix for each game"
   ]
  },
  {
   "cell_type": "code",
   "execution_count": 5,
   "metadata": {
    "collapsed": false
   },
   "outputs": [
    {
     "name": "stdout",
     "output_type": "stream",
     "text": [
      "Feature matrix shape is:  (50000, 28)\n"
     ]
    }
   ],
   "source": [
    "moveStats = scipy.array(moveStatsList)\n",
    "moveStats = scipy.column_stack((moveStats, matchResults))\n",
    "print(\"Feature matrix shape is: \", moveStats.shape)"
   ]
  },
  {
   "cell_type": "markdown",
   "metadata": {},
   "source": [
    "#####Add an index to the feature list so we keep track of individual rows"
   ]
  },
  {
   "cell_type": "code",
   "execution_count": 6,
   "metadata": {
    "collapsed": true
   },
   "outputs": [],
   "source": [
    "\n",
    "moveStats = scipy.insert(moveStats, 0, values=range(1, 50001), axis=1)"
   ]
  },
  {
   "cell_type": "markdown",
   "metadata": {},
   "source": [
    "Future Directions for Features\n",
    "----------------------------\n",
    "- Long hard fought matches should be more significant to guaging performance of the players so multiplying features like variance and mean with the number of moves could provide an interesting feature.(DONE)\n",
    "- We could in general multiply any two features and create a bunch of 2nd degree polynomials without worrying about overfitting(25000 observations) and see what sticks.\n",
    "- Sepearating Draws and making separate models for them could make a better predictor for the games with results.(DONE)"
   ]
  },
  {
   "cell_type": "markdown",
   "metadata": {},
   "source": [
    "##Final Steps\n",
    "The following code does the final modeling and prediction from the feature data. Here are the steps taken...\n",
    "- Separate training and prediction rows\n",
    "- Combine the Training Elo Ratings with the training data.\n",
    "- Take out rows for extremely short games (mostly forfeitures I presume) and deal with them separately, and simplistically.\n",
    "- Create two seperate models, one for white player and one for black player. Both will use the same feature sets.\n",
    "- Make predictions for the other 25000 games\n",
    "- Use average Elo ratings for the extremely short games that we ignored\n",
    "- combine the indices of the games and the results and dump them to a csv file."
   ]
  },
  {
   "cell_type": "code",
   "execution_count": 8,
   "metadata": {
    "collapsed": false,
    "scrolled": false
   },
   "outputs": [],
   "source": [
    "# separate training and prediction rows\n",
    "trainingStats = moveStats[0:25000,:]\n",
    "predictionStats = moveStats[25000:, :]\n",
    "# couple the known elo rankings to the training set so we keep track of it wrt indices\n",
    "trainingStats = scipy.insert(trainingStats, 1, values=whiteElo, axis=1)\n",
    "trainingStats = scipy.insert(trainingStats, 2, values=blackElo, axis=1)\n",
    "# further split both into regular and forfeit data\n",
    "# From: http://stackoverflow.com/questions/11453141\n",
    "trainingStatsReg = trainingStats[trainingStats[:,3]!=0]\n",
    "trainingStatsForf = trainingStats[trainingStats[:,3]==0]\n",
    "predictionStatsReg = predictionStats[predictionStats[:,3]!=0]\n",
    "predictionStatsForf = predictionStats[predictionStats[:,3]==0]\n",
    "\n",
    "# Make separate models for win/lose/draws\n",
    "trainingStatsDraws = trainingStatsReg[trainingStatsReg[:,-1]==0.5]\n",
    "trainingStatsWins = trainingStatsReg[trainingStatsReg[:,-1]==1]\n",
    "trainingStatsLosses = trainingStatsReg[trainingStatsReg[:,-1]==0]\n",
    "predictionStatsDraws = predictionStatsReg[predictionStatsReg[:,-1]==0.5]\n",
    "predictionStatsWins = predictionStatsReg[predictionStatsReg[:,-1]==1]\n",
    "predictionStatsLosses = predictionStatsReg[predictionStatsReg[:,-1]==0]\n",
    "# Run the regular data through two linear models, one for white and one for black\n",
    "\n",
    "#from http://stackoverflow.com/questions/11479064/multivariate-linear-regression-in-python\n",
    "from sklearn import linear_model\n",
    "whiteModelWins = linear_model.LinearRegression()\n",
    "whiteModelWins.fit(trainingStatsWins[:,3:],trainingStatsWins[:,1])\n",
    "blackModelWins = linear_model.LinearRegression()\n",
    "blackModelWins.fit(trainingStatsWins[:,3:],trainingStatsWins[:,2])\n",
    "\n",
    "whiteModelLosses = linear_model.LinearRegression()\n",
    "whiteModelLosses.fit(trainingStatsLosses[:,3:],trainingStatsLosses[:,1])\n",
    "blackModelLosses = linear_model.LinearRegression()\n",
    "blackModelLosses.fit(trainingStatsLosses[:,3:],trainingStatsLosses[:,2])\n",
    "\n",
    "whiteModelDraws = linear_model.LinearRegression()\n",
    "whiteModelDraws.fit(trainingStatsDraws[:,3:],trainingStatsDraws[:,1])\n",
    "blackModelDraws = linear_model.LinearRegression()\n",
    "blackModelDraws.fit(trainingStatsDraws[:,3:],trainingStatsDraws[:,2])\n",
    "\n",
    "\n",
    "whitePredictionsWins = whiteModelWins.predict(predictionStatsWins[:,1:])\n",
    "blackPredictionsWins = blackModelWins.predict(predictionStatsWins[:,1:])\n",
    "\n",
    "whitePredictionsLosses = whiteModelLosses.predict(predictionStatsLosses[:,1:])\n",
    "blackPredictionsLosses = blackModelLosses.predict(predictionStatsLosses[:,1:])\n",
    "\n",
    "whitePredictionsDraws = whiteModelDraws.predict(predictionStatsDraws[:,1:])\n",
    "blackPredictionsDraws = blackModelDraws.predict(predictionStatsDraws[:,1:])\n",
    "\n",
    "# for forfeiture make averages of white elo and black elo for white forfeiture and\n",
    "# black forfeiture each\n",
    "whitePredictionsForf = scipy.mean(trainingStatsForf[:,1])*scipy.ones(predictionStatsForf.shape[0])\n",
    "blackPredictionsForf = scipy.mean(trainingStatsForf[:,2])*scipy.ones(predictionStatsForf.shape[0])\n",
    "\n",
    "#stitch the output together\n",
    "# Stitch index and predictions\n",
    "predictionsWins = scipy.column_stack((predictionStatsWins[:,0],whitePredictionsWins,blackPredictionsWins))\n",
    "predictionsLosses = scipy.column_stack((predictionStatsLosses[:,0],whitePredictionsLosses,blackPredictionsLosses))\n",
    "predictionsDraws = scipy.column_stack((predictionStatsDraws[:,0],whitePredictionsDraws,blackPredictionsDraws))\n",
    "predictionsForf = scipy.column_stack((predictionStatsForf[:,0],whitePredictionsForf,blackPredictionsForf))\n",
    "\n",
    "predictions = scipy.concatenate((predictionsWins, predictionsLosses, predictionsDraws, predictionsForf))\n",
    "predictions = scipy.around(predictions)\n",
    "predictions = predictions.astype(int)\n",
    "predictions = predictions[predictions[:,0].argsort()]\n",
    "#spit out csv\n",
    "scipy.savetxt(\"results.csv\", predictions, fmt=\"%d\", delimiter=\",\", header=\"Event,WhiteElo,BlackElo\", comments='')"
   ]
  },
  {
   "cell_type": "markdown",
   "metadata": {},
   "source": [
    "Here's a sample of our results."
   ]
  },
  {
   "cell_type": "code",
   "execution_count": 9,
   "metadata": {
    "collapsed": false
   },
   "outputs": [
    {
     "name": "stdout",
     "output_type": "stream",
     "text": [
      "[[25001  2317  2333]\n",
      " [25002  2074  2208]\n",
      " [25003  2320  2231]\n",
      " [25004  2334  2349]\n",
      " [25005  2272  2305]\n",
      " [25006  2091  2281]\n",
      " [25007  2276  2114]\n",
      " [25008  2350  2368]\n",
      " [25009  2374  2230]\n",
      " [25010  2310  2159]]\n"
     ]
    }
   ],
   "source": [
    "print(predictions[0:10])"
   ]
  },
  {
   "cell_type": "code",
   "execution_count": null,
   "metadata": {
    "collapsed": true
   },
   "outputs": [],
   "source": []
  }
 ],
 "metadata": {
  "kernelspec": {
   "display_name": "Python 3",
   "language": "python",
   "name": "python3"
  },
  "language_info": {
   "codemirror_mode": {
    "name": "ipython",
    "version": 3
   },
   "file_extension": ".py",
   "mimetype": "text/x-python",
   "name": "python",
   "nbconvert_exporter": "python",
   "pygments_lexer": "ipython3",
   "version": "3.4.0"
  }
 },
 "nbformat": 4,
 "nbformat_minor": 0
}
